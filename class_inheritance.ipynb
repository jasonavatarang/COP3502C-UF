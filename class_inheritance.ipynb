{
 "cells": [
  {
   "cell_type": "markdown",
   "metadata": {},
   "source": [
    "# COPS3502C Programming Fundamentals 1\n",
    "## Class and Inheritance - Lab 7"
   ]
  },
  {
   "cell_type": "markdown",
   "metadata": {},
   "source": [
    "## Classes\n",
    "- The `class` keyword is used to create a user-defined type of object containing groups of related variables and functions.\n",
    "- The object maintains a set of attributes that determine the data and behavior of the class.\n",
    "- Instantiation means calling the class and creating an instance of the class.\n",
    "- A method is a function defined within a class.\n",
    "- The `__init__` method, commonly known as a constructor, is responsible for setting up the initial state of the new instance.\n",
    "- Class objects create instance objects."
   ]
  },
  {
   "cell_type": "markdown",
   "metadata": {},
   "source": [
    "## Class Instance\n",
    "- A class instance is commonly initialized to a specific state. The `__init__` method constructor can be customized with additional parameters.\n",
    "\n",
    "\n"
   ]
  },
  {
   "cell_type": "code",
   "execution_count": 1,
   "metadata": {},
   "outputs": [],
   "source": [
    "# A class defines a blueprint for creating objects with shared attributes and methods.\n",
    "\n",
    "class Person:\n",
    "    def __init__(self, name, age):\n",
    "        self.name = name\n",
    "        self.age = age\n",
    "\n",
    "# Concept: Class Instance\n",
    "# An instance is an object created from a class, and it has its own unique attributes.\n",
    "\n",
    "person1 = Person(\"Alice\", 30)\n",
    "person2 = Person(\"Bob\", 25)"
   ]
  },
  {
   "cell_type": "markdown",
   "metadata": {},
   "source": [
    "## Instance Method\n",
    "- A function defined within a class is known as an instance method. An instance method can be referenced using dot notation.\n"
   ]
  },
  {
   "cell_type": "code",
   "execution_count": 2,
   "metadata": {},
   "outputs": [
    {
     "name": "stdout",
     "output_type": "stream",
     "text": [
      "result: 8\n"
     ]
    }
   ],
   "source": [
    "class Calculator:\n",
    "    def add(self, x, y):\n",
    "        return x + y\n",
    "\n",
    "calc = Calculator()\n",
    "result = calc.add(5, 3)\n",
    "print(f\"result: {result}\")"
   ]
  },
  {
   "cell_type": "markdown",
   "metadata": {},
   "source": [
    "\n",
    "## The `self` Keyword\n",
    "- The `self` keyword is used to represent an instance (object) of the given class.\n",
    "\n"
   ]
  },
  {
   "cell_type": "code",
   "execution_count": 3,
   "metadata": {},
   "outputs": [
    {
     "name": "stdout",
     "output_type": "stream",
     "text": [
      "Name: Alice, Age: 20\n",
      "Alice\n"
     ]
    }
   ],
   "source": [
    "class Student:\n",
    "    def __init__(self, name, age):\n",
    "        self.name = name\n",
    "        self.age = age\n",
    "\n",
    "    def display_info(self):\n",
    "        return f\"Name: {self.name}, Age: {self.age}\"\n",
    "\n",
    "student = Student(\"Alice\", 20)\n",
    "info = student.display_info()\n",
    "student_name = student.name\n",
    "print(info)\n",
    "print(student_name)"
   ]
  },
  {
   "cell_type": "markdown",
   "metadata": {},
   "source": [
    "## Constructor\n",
    "- The constructor is responsible for setting up the initial state of a new instance.\n",
    "\n"
   ]
  },
  {
   "cell_type": "code",
   "execution_count": 4,
   "metadata": {},
   "outputs": [],
   "source": [
    "class Circle:\n",
    "    def __init__(self, radius):\n",
    "        self.radius = radius\n",
    "\n",
    "circle1 = Circle(5)\n",
    "circle2 = Circle(radius = 7)"
   ]
  },
  {
   "cell_type": "markdown",
   "metadata": {},
   "source": [
    "## Multiple Class Instances\n",
    "- Multiple instances of a class can be defined, each with their attributes.\n",
    "\n"
   ]
  },
  {
   "cell_type": "code",
   "execution_count": 5,
   "metadata": {},
   "outputs": [],
   "source": [
    "class Product:\n",
    "    def __init__(self, name, price):\n",
    "        self.name = name\n",
    "        self.price = price\n",
    "\n",
    "product1 = Product(\"Laptop\", 800)\n",
    "product2 = Product(\"Phone\", 400)"
   ]
  },
  {
   "cell_type": "markdown",
   "metadata": {},
   "source": [
    "## Class Attribute vs. Instance Attribute\n",
    "- A class attribute is shared amongst all instances of that class. Changing the class attribute affects all instances.\n",
    "- An instance attribute can be unique to each instance.\n",
    "\n"
   ]
  },
  {
   "cell_type": "code",
   "execution_count": 6,
   "metadata": {},
   "outputs": [
    {
     "name": "stdout",
     "output_type": "stream",
     "text": [
      "Class Attribute (wheels): 4\n",
      "Instance Attributes for car1:\n",
      "Brand: Tesla\n",
      "Model: Model X\n",
      "Wheels: 7\n",
      "\n",
      "Instance Attributes for car2:\n",
      "Brand: Ford\n",
      "Model: F-150\n",
      "Wheels: 4\n"
     ]
    }
   ],
   "source": [
    "class Vehicle:\n",
    "    wheels = 4  # Class attribute\n",
    "\n",
    "    def __init__(self, brand, model, wheel=4):\n",
    "        self.brand = brand  # Instance attribute\n",
    "        self.model = model  # Instance attribute\n",
    "        self.wheels = wheel\n",
    "\n",
    "# Create instances of Vehicle\n",
    "car1 = Vehicle(brand=\"Tesla\", model=\"Model X\", wheel=7)\n",
    "car2 = Vehicle(brand=\"Ford\", model=\"F-150\")\n",
    "\n",
    "# Access and print class attribute\n",
    "print(\"Class Attribute (wheels):\", Vehicle.wheels)\n",
    "\n",
    "# Access and print instance attributes for car1\n",
    "print(\"Instance Attributes for car1:\")\n",
    "print(\"Brand:\", car1.brand)\n",
    "print(\"Model:\", car1.model)\n",
    "print(\"Wheels:\", car1.wheels)\n",
    "\n",
    "# Access and print instance attributes for car2\n",
    "print(\"\\nInstance Attributes for car2:\")\n",
    "print(\"Brand:\", car2.brand)\n",
    "print(\"Model:\", car2.model)\n",
    "print(\"Wheels:\", car2.wheels)\n",
    "\n"
   ]
  },
  {
   "cell_type": "markdown",
   "metadata": {},
   "source": [
    "## Class Customization\n",
    "- Class customization is the process of defining how a class should behave for special method names that the Python interpreter recognizes. (e.g., `__str__()`)\n",
    "\n"
   ]
  },
  {
   "cell_type": "code",
   "execution_count": 7,
   "metadata": {},
   "outputs": [
    {
     "name": "stdout",
     "output_type": "stream",
     "text": [
      "Python for Beginners by John Smith\n",
      "Python for Beginners by John Smith\n"
     ]
    }
   ],
   "source": [
    "class Book:\n",
    "    def __init__(self, title, author):\n",
    "        self.title = title\n",
    "        self.author = author\n",
    "\n",
    "    def __str__(self):\n",
    "        return f\"{self.title} by {self.author}\"\n",
    "\n",
    "book = Book(\"Python for Beginners\", \"John Smith\")\n",
    "book_info = str(book)\n",
    "print(book_info)\n",
    "print(book)"
   ]
  },
  {
   "cell_type": "markdown",
   "metadata": {},
   "source": [
    "## Operator Overloading\n",
    "- Class customization can also redefine the functionality of built-in operators like `<`, `>=`, `+`, `-`, and `*`.\n",
    "- You can change how classes are compared to each other using rich comparison methods.\n",
    "\n"
   ]
  },
  {
   "cell_type": "code",
   "execution_count": 8,
   "metadata": {},
   "outputs": [
    {
     "name": "stdout",
     "output_type": "stream",
     "text": [
      "True\n",
      "False\n",
      "8/8\n"
     ]
    }
   ],
   "source": [
    "class Fraction:\n",
    "    def __init__(self, numerator, denominator):\n",
    "        self.numerator = numerator\n",
    "        self.denominator = denominator\n",
    "\n",
    "    def __eq__(self, other):\n",
    "        return (self.numerator * other.denominator) == (other.numerator * self.denominator)\n",
    "\n",
    "    def __ne__(self, other):\n",
    "        return not self.__eq__(other)\n",
    "\n",
    "    def __add__(self, other):\n",
    "        # Find a common denominator\n",
    "        common_denominator = self.denominator * other.denominator\n",
    "\n",
    "        # Add the fractions\n",
    "        new_numerator = (self.numerator * other.denominator) + (other.numerator * self.denominator)\n",
    "\n",
    "        return Fraction(new_numerator, common_denominator)\n",
    "\n",
    "    def __str__(self):\n",
    "        return f\"{self.numerator}/{self.denominator}\"\n",
    "\n",
    "# Usage\n",
    "frac1 = Fraction(1, 2)\n",
    "frac2 = Fraction(2, 4)\n",
    "\n",
    "# Adding two fractions\n",
    "frac3 = frac1 + frac2  # Calls the __add__ method\n",
    "print(frac2 == frac1)\n",
    "print(frac2 != frac1)\n",
    "print(frac3)  # Output: 3/4\n"
   ]
  },
  {
   "cell_type": "markdown",
   "metadata": {},
   "source": [
    "## Inheritance\n",
    "- Derived class refers to a class that inherits the class attributes of another class, also known as a base class.\n",
    "- A derived class can access the attributes of all of its base classes via normal attribute reference operations.\n",
    "\n"
   ]
  },
  {
   "cell_type": "code",
   "execution_count": 9,
   "metadata": {},
   "outputs": [
    {
     "name": "stdout",
     "output_type": "stream",
     "text": [
      "Buddy says Woof!\n",
      "Whiskers says Meow!\n",
      "Buddy can see!\n",
      "Whiskers can see!\n",
      "Monty can't see\n"
     ]
    }
   ],
   "source": [
    "# Base class (parent class)\n",
    "class Animal:\n",
    "    def __init__(self, name):\n",
    "        self.name = name\n",
    "\n",
    "    def speak(self):\n",
    "        pass  # This method will be overridden in the derived classes\n",
    "    \n",
    "    def see(self):\n",
    "        return f\"{self.name} can see!\"\n",
    "\n",
    "# Derived class (child class) Dog\n",
    "class Dog(Animal):\n",
    "    def speak(self):\n",
    "        return f\"{self.name} says Woof!\"\n",
    "\n",
    "# Another derived class Cat\n",
    "class Cat(Animal):\n",
    "    def speak(self):\n",
    "        return f\"{self.name} says Meow!\"\n",
    "    \n",
    "# Another derived class Mole\n",
    "class Mole(Animal):\n",
    "    def see(self):\n",
    "        return f\"{self.name} can't see\"\n",
    "\n",
    "# Create instances of the derived classes\n",
    "dog = Dog(\"Buddy\")\n",
    "cat = Cat(\"Whiskers\")\n",
    "mole = Mole(\"Monty\")\n",
    "\n",
    "# Call the speak method of each instance\n",
    "print(dog.speak())  # Output: Buddy says Woof!\n",
    "print(cat.speak())  # Output: Whiskers says Meow!\n",
    "\n",
    "# Call the see method of each instance\n",
    "print(dog.see())  # Output: Buddy can see!\n",
    "print(cat.see())  # Output: Whiskers can see!\n",
    "print(mole.see()) # Output: Monty can't see\n",
    "\n"
   ]
  },
  {
   "cell_type": "markdown",
   "metadata": {},
   "source": [
    "## Method Overriding\n",
    "- Method overriding is redefining a method of the base class when the derived class has a method of the same name.\n",
    "\n"
   ]
  },
  {
   "cell_type": "code",
   "execution_count": 10,
   "metadata": {},
   "outputs": [
    {
     "name": "stdout",
     "output_type": "stream",
     "text": [
      "Area of the rectangle: 20\n",
      "Area of the circle: 28.274333882308138\n"
     ]
    }
   ],
   "source": [
    "import math\n",
    "\n",
    "# Base class (parent class)\n",
    "class Shape:\n",
    "    def area(self):\n",
    "        return 0\n",
    "\n",
    "# Derived class (child class)\n",
    "class Rectangle(Shape):\n",
    "    def __init__(self, width, height):\n",
    "        self.width = width\n",
    "        self.height = height\n",
    "\n",
    "    def area(self):\n",
    "        return self.width * self.height\n",
    "\n",
    "# Another derived class\n",
    "class Circle(Shape):\n",
    "    def __init__(self, radius):\n",
    "        self.radius = radius\n",
    "\n",
    "    def area(self):\n",
    "        return math.pi * self.radius**2\n",
    "\n",
    "# Create instances of the derived classes\n",
    "rectangle = Rectangle(4, 5)\n",
    "circle = Circle(3)\n",
    "\n",
    "# Call the area method of each instance\n",
    "print(f\"Area of the rectangle: {rectangle.area()}\")  # Output: Area of the rectangle: 20\n",
    "print(f\"Area of the circle: {circle.area()}\")        # Output: Area of the circle: 28.274333882308138\n"
   ]
  },
  {
   "cell_type": "markdown",
   "metadata": {},
   "source": [
    "## Memory Allocation\n",
    "- Memory allocation is the process by which an application requests and is granted memory for its data and code execution.\n",
    "\n",
    "- In Python, memory allocation is handled by the Python runtime itself, ensuring efficient memory management.\n",
    "\n",
    "- A crucial concept in memory allocation is the reference count, which is an integer counter representing how many variables or references point to a specific object in memory.\n",
    "\n",
    "- When an object's reference count drops to zero, it indicates that there are no more references to the object. At this point, the object is no longer accessible, and Python's garbage collector automatically deallocates the memory used by the object."
   ]
  },
  {
   "cell_type": "markdown",
   "metadata": {},
   "source": [
    "## Lab 7: The Cow Says\n",
    "- This lab provides experience with the Bash Command Line Interface and writing classes.\n",
    "- Learn about Unix shell commands [here](https://linuxjourney.com/lesson/the-shell).\n",
    "\n"
   ]
  },
  {
   "cell_type": "markdown",
   "metadata": {},
   "source": [
    "- ls (List): List files and directories in the current directory.\n",
    "- cd (Change Directory): Navigate to a different directory.\n",
    "- pwd (Print Working Directory): Display the current working directory path.\n",
    "- touch: Create an empty file.\n",
    "- mkdir (Make Directory): Create a new directory.\n",
    "- rm (Remove): Delete files or directories. Be careful with this one!"
   ]
  },
  {
   "cell_type": "markdown",
   "metadata": {},
   "source": [
    "## Getters and Setters\n",
    "- Getters and setters are methods used to access and modify the internal state of an object, typically within a class. They provide a controlled interface for retrieving and updating the values of object attributes.\n",
    "- A getter is a method that allows you to retrieve the value of a private or protected attribute. It is used to access the current state of an object without direct access to the attribute.\n",
    "- A setter is a method that allows you to update or modify the value of a private or protected attribute. It is used to control and validate the assignment of new values to object attributes.\n",
    "\n",
    "```\n",
    "def get_<attribute_name>(self):\n",
    "    return self.<attribute_name>\n",
    "\n",
    "def set_<attribute_name>(self, new_value):\n",
    "    self.<attribute_name> = new_value\n",
    "```"
   ]
  },
  {
   "cell_type": "markdown",
   "metadata": {},
   "source": [
    "## Command-Line Arguments in Python\n",
    "- In Python, you can access command-line arguments provided to a script using the sys.argv list. The sys module provides access to various variables and functions related to the Python runtime environment.\n",
    "- macOS (python3) / windows (python)\n",
    "```\n",
    "import sys\n",
    "from heifer_generator import HeiferGenerator as HG\n",
    "\n",
    "def main():\n",
    "    # args = ['cowsay.py', '-first']\n",
    "    args = sys.argv\n",
    "    # create list of cow objects using your cow class and given heifer_generator.py file\n",
    "    cows = HG.get_cows()\n",
    "\n",
    "    if args[1] == '-first':\n",
    "        print('first read')\n",
    "\n",
    "# python cowsay.py -first\n",
    "\n",
    "```"
   ]
  }
 ],
 "metadata": {
  "kernelspec": {
   "display_name": "virEnv",
   "language": "python",
   "name": "virenv"
  },
  "language_info": {
   "codemirror_mode": {
    "name": "ipython",
    "version": 3
   },
   "file_extension": ".py",
   "mimetype": "text/x-python",
   "name": "python",
   "nbconvert_exporter": "python",
   "pygments_lexer": "ipython3",
   "version": "3.10.8"
  }
 },
 "nbformat": 4,
 "nbformat_minor": 2
}
